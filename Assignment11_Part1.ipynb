{
  "cells": [
    {
      "cell_type": "markdown",
      "metadata": {
        "id": "view-in-github",
        "colab_type": "text"
      },
      "source": [
        "<a href=\"https://colab.research.google.com/github/MPGarg/Assignment-11/blob/main/Assignment11_Part1.ipynb\" target=\"_parent\"><img src=\"https://colab.research.google.com/assets/colab-badge.svg\" alt=\"Open In Colab\"/></a>"
      ]
    },
    {
      "cell_type": "code",
      "source": [
        "from google.colab import drive\n",
        "drive.mount('/content/gdrive')"
      ],
      "metadata": {
        "colab": {
          "base_uri": "https://localhost:8080/"
        },
        "id": "wfF0KNxIs-G7",
        "outputId": "ca77ef22-f108-42a1-c964-e7a8a1ebce1a"
      },
      "execution_count": 1,
      "outputs": [
        {
          "output_type": "stream",
          "name": "stdout",
          "text": [
            "Mounted at /content/gdrive\n"
          ]
        }
      ]
    },
    {
      "cell_type": "code",
      "source": [
        "!git clone https://github.com/MPGarg/Assignment-11.git"
      ],
      "metadata": {
        "colab": {
          "base_uri": "https://localhost:8080/"
        },
        "id": "GwvwhXdytTj3",
        "outputId": "5277fdf1-4696-4313-c9d7-fb0d92aef90f"
      },
      "execution_count": 2,
      "outputs": [
        {
          "output_type": "stream",
          "name": "stdout",
          "text": [
            "Cloning into 'Assignment-11'...\n",
            "remote: Enumerating objects: 7, done.\u001b[K\n",
            "remote: Counting objects: 100% (7/7), done.\u001b[K\n",
            "remote: Compressing objects: 100% (5/5), done.\u001b[K\n",
            "remote: Total 7 (delta 0), reused 0 (delta 0), pack-reused 0\u001b[K\n",
            "Unpacking objects: 100% (7/7), 1.91 MiB | 5.45 MiB/s, done.\n"
          ]
        }
      ]
    },
    {
      "cell_type": "code",
      "source": [
        "ls"
      ],
      "metadata": {
        "colab": {
          "base_uri": "https://localhost:8080/"
        },
        "id": "ClxtPkcbtod-",
        "outputId": "7f6fd172-c181-4b03-fea6-5bd454e58051"
      },
      "execution_count": 3,
      "outputs": [
        {
          "output_type": "stream",
          "name": "stdout",
          "text": [
            "\u001b[0m\u001b[01;34mAssignment-11\u001b[0m/  \u001b[01;34mgdrive\u001b[0m/  \u001b[01;34msample_data\u001b[0m/\n"
          ]
        }
      ]
    },
    {
      "cell_type": "code",
      "source": [
        "# Loading vocab & training file\n",
        "!cp -r '/content/gdrive/MyDrive/Colab Notebooks/Assignment11/vocab.txt' /content/\n",
        "!cp -r '/content/gdrive/MyDrive/Colab Notebooks/Assignment11/training.txt' /content/"
      ],
      "metadata": {
        "id": "UqjWAVRBt9Jg"
      },
      "execution_count": 4,
      "outputs": []
    },
    {
      "cell_type": "code",
      "source": [
        "ls"
      ],
      "metadata": {
        "colab": {
          "base_uri": "https://localhost:8080/"
        },
        "id": "S3iAVOAat9MX",
        "outputId": "f43a520b-9218-44c5-9c7b-ac9482f30e07"
      },
      "execution_count": 5,
      "outputs": [
        {
          "output_type": "stream",
          "name": "stdout",
          "text": [
            "\u001b[0m\u001b[01;34mAssignment-11\u001b[0m/  \u001b[01;34mgdrive\u001b[0m/  \u001b[01;34msample_data\u001b[0m/  training.txt  vocab.txt\n"
          ]
        }
      ]
    },
    {
      "cell_type": "code",
      "source": [
        "import torch\n",
        "device = \"cuda\" if torch.cuda.is_available() else \"cpu\"\n",
        "print(device)"
      ],
      "metadata": {
        "colab": {
          "base_uri": "https://localhost:8080/"
        },
        "id": "CoLbyA1qvWRc",
        "outputId": "8fd832b4-213b-4906-c047-a4a85239f969"
      },
      "execution_count": 6,
      "outputs": [
        {
          "output_type": "stream",
          "name": "stdout",
          "text": [
            "cuda\n"
          ]
        }
      ]
    },
    {
      "cell_type": "code",
      "execution_count": 7,
      "metadata": {
        "id": "cYq3Smi6sn_S"
      },
      "outputs": [],
      "source": [
        "# =============================================================================\n",
        "# Libs\n",
        "# =============================================================================\n",
        "from torch.utils.data import Dataset\n",
        "import torch.nn.functional as F\n",
        "from collections import Counter\n",
        "from os.path import exists\n",
        "import torch.optim as optim\n",
        "import torch.nn as nn\n",
        "import numpy as np\n",
        "import random\n",
        "import torch\n",
        "import math\n",
        "import re\n",
        "\n",
        "\n",
        "# =============================================================================\n",
        "# Transformer\n",
        "# =============================================================================\n",
        "def attention(q, k, v, mask = None, dropout = None):\n",
        "    scores = q.matmul(k.transpose(-2, -1))\n",
        "    scores /= math.sqrt(q.shape[-1])\n",
        "    \n",
        "    #mask\n",
        "    scores = scores if mask is None else scores.masked_fill(mask == 0, -1e3)\n",
        "    \n",
        "    scores = F.softmax(scores, dim = -1)\n",
        "    scores = dropout(scores) if dropout is not None else scores\n",
        "    output = scores.matmul(v)\n",
        "    return output\n",
        "\n",
        "class MultiHeadAttention(nn.Module):\n",
        "    def __init__(self, n_heads, out_dim, dropout=0.1):\n",
        "        super().__init__()\n",
        "        \n",
        "#        self.q_linear = nn.Linear(out_dim, out_dim)\n",
        "#        self.k_linear = nn.Linear(out_dim, out_dim)\n",
        "#        self.v_linear = nn.Linear(out_dim, out_dim)\n",
        "        self.linear = nn.Linear(out_dim, out_dim*3)\n",
        "\n",
        "        self.n_heads = n_heads\n",
        "        self.out_dim = out_dim\n",
        "        self.out_dim_per_head = out_dim // n_heads\n",
        "        self.out = nn.Linear(out_dim, out_dim)\n",
        "        self.dropout = nn.Dropout(dropout)\n",
        "    \n",
        "    def split_heads(self, t):\n",
        "        return t.reshape(t.shape[0], -1, self.n_heads, self.out_dim_per_head)\n",
        "    \n",
        "    def forward(self, x, y=None, mask=None):\n",
        "        #in decoder, y comes from encoder. In encoder, y=x\n",
        "        y = x if y is None else y\n",
        "        \n",
        "        qkv = self.linear(x) # BS * SEQ_LEN * (3*EMBED_SIZE_L)\n",
        "        q = qkv[:, :, :self.out_dim] # BS * SEQ_LEN * EMBED_SIZE_L\n",
        "        k = qkv[:, :, self.out_dim:self.out_dim*2] # BS * SEQ_LEN * EMBED_SIZE_L\n",
        "        v = qkv[:, :, self.out_dim*2:] # BS * SEQ_LEN * EMBED_SIZE_L\n",
        "        \n",
        "        #break into n_heads\n",
        "        q, k, v = [self.split_heads(t) for t in (q,k,v)]  # BS * SEQ_LEN * HEAD * EMBED_SIZE_P_HEAD\n",
        "        q, k, v = [t.transpose(1,2) for t in (q,k,v)]  # BS * HEAD * SEQ_LEN * EMBED_SIZE_P_HEAD\n",
        "        \n",
        "        #n_heads => attention => merge the heads => mix information\n",
        "        scores = attention(q, k, v, mask, self.dropout) # BS * HEAD * SEQ_LEN * EMBED_SIZE_P_HEAD\n",
        "        scores = scores.transpose(1,2).contiguous().view(scores.shape[0], -1, self.out_dim) # BS * SEQ_LEN * EMBED_SIZE_L\n",
        "        out = self.out(scores)  # BS * SEQ_LEN * EMBED_SIZE\n",
        "        \n",
        "        return out\n",
        "\n",
        "class FeedForward(nn.Module):\n",
        "    def __init__(self, inp_dim, inner_dim, dropout=0.1):\n",
        "        super().__init__()\n",
        "        self.linear1 = nn.Linear(inp_dim, inner_dim)\n",
        "        self.linear2 = nn.Linear(inner_dim, inp_dim)\n",
        "        self.dropout = nn.Dropout(dropout)\n",
        "    \n",
        "    def forward(self, x):\n",
        "        #inp => inner => relu => dropout => inner => inp\n",
        "        return self.linear2(self.dropout(F.relu(self.linear1(x)))) \n",
        "\n",
        "class EncoderLayer(nn.Module):\n",
        "    def __init__(self, n_heads, inner_transformer_size, inner_ff_size, dropout=0.1):\n",
        "        super().__init__()\n",
        "        self.mha = MultiHeadAttention(n_heads, inner_transformer_size, dropout)\n",
        "        self.ff = FeedForward(inner_transformer_size, inner_ff_size, dropout)\n",
        "        self.norm1 = nn.LayerNorm(inner_transformer_size)\n",
        "        self.norm2 = nn.LayerNorm(inner_transformer_size)\n",
        "        self.dropout1 = nn.Dropout(dropout)\n",
        "        self.dropout2 = nn.Dropout(dropout)\n",
        "    \n",
        "    def forward(self, x, mask=None):\n",
        "        x2 = self.norm1(x)\n",
        "        x = x + self.dropout1(self.mha(x2, mask=mask))\n",
        "        x2 = self.norm2(x)\n",
        "        x = x + self.dropout2(self.ff(x2))\n",
        "        return x\n",
        "\n",
        "class Transformer(nn.Module):\n",
        "    def __init__(self, n_code, n_heads, embed_size, inner_ff_size, n_embeddings, seq_len, dropout=.1):\n",
        "        super().__init__()\n",
        "        \n",
        "        #model input\n",
        "        self.embeddings = nn.Embedding(n_embeddings, embed_size)\n",
        "        self.pe = PositionalEmbedding(embed_size, seq_len)\n",
        "        \n",
        "        #backbone\n",
        "        encoders = []\n",
        "        for i in range(n_code):\n",
        "            encoders += [EncoderLayer(n_heads, embed_size, inner_ff_size, dropout)]\n",
        "        self.encoders = nn.ModuleList(encoders)\n",
        "        \n",
        "        #language model\n",
        "        self.norm = nn.LayerNorm(embed_size)\n",
        "        self.linear = nn.Linear(embed_size, n_embeddings, bias=False)\n",
        "                \n",
        "    \n",
        "    def forward(self, x):\n",
        "        x = self.embeddings(x)\n",
        "        x = x + self.pe(x)\n",
        "        for encoder in self.encoders:\n",
        "            x = encoder(x)\n",
        "        x = self.norm(x)\n",
        "        x = self.linear(x)\n",
        "        return x\n",
        "\n",
        "# Positional Embedding\n",
        "class PositionalEmbedding(nn.Module):\n",
        "    def __init__(self, d_model, max_seq_len = 80):\n",
        "        super().__init__()\n",
        "        self.d_model = d_model\n",
        "        pe = torch.zeros(max_seq_len, d_model)\n",
        "        pe.requires_grad = False\n",
        "        for pos in range(max_seq_len):\n",
        "            for i in range(0, d_model, 2):\n",
        "                pe[pos, i] = math.sin(pos / (10000 ** ((2 * i)/d_model)))\n",
        "                pe[pos, i + 1] = math.cos(pos / (10000 ** ((2 * (i + 1))/d_model)))\n",
        "        pe = pe.unsqueeze(0)\n",
        "        self.register_buffer('pe', pe)\n",
        "    \n",
        "    def forward(self, x):\n",
        "        return self.pe[:,:x.size(1)] #x.size(1) = seq_len\n",
        "    \n",
        "# =============================================================================\n",
        "# Dataset\n",
        "# =============================================================================\n",
        "class SentencesDataset(Dataset):\n",
        "    #Init dataset\n",
        "    def __init__(self, sentences, vocab, seq_len):\n",
        "        dataset = self\n",
        "        \n",
        "        dataset.sentences = sentences\n",
        "        dataset.vocab = vocab + ['<ignore>', '<oov>', '<mask>', 'samsung']\n",
        "        dataset.vocab = {e:i for i, e in enumerate(dataset.vocab)} \n",
        "        dataset.rvocab = {v:k for k,v in dataset.vocab.items()}\n",
        "        dataset.seq_len = seq_len\n",
        "        \n",
        "        #special tags\n",
        "        dataset.IGNORE_IDX = dataset.vocab['<ignore>'] #replacement tag for tokens to ignore\n",
        "        dataset.OUT_OF_VOCAB_IDX = dataset.vocab['<oov>'] #replacement tag for unknown words\n",
        "        dataset.MASK_IDX = dataset.vocab['<mask>'] #replacement tag for the masked word prediction task\n",
        "        dataset.WORD1_IDX = dataset.vocab['samsung']\n",
        "        dataset.MARS_IDX = dataset.vocab['mars']\n",
        "    \n",
        "    #fetch data\n",
        "    def __getitem__(self, index, p_noisy=0.15):\n",
        "        dataset = self\n",
        "        \n",
        "        #while we don't have enough word to fill the sentence for a batch\n",
        "        s = []\n",
        "        while len(s) < dataset.seq_len:\n",
        "            s.extend(dataset.get_sentence_idx(index % len(dataset)))\n",
        "            index += 1\n",
        "        \n",
        "        #ensure that the sequence is of length seq_len\n",
        "        s = s[:dataset.seq_len]\n",
        "        [s.append(dataset.IGNORE_IDX) for i in range(dataset.seq_len - len(s))] #PAD ok\n",
        "        \n",
        "        #apply random word for mars\n",
        "        s = [((dataset.WORD1_IDX, w) if random.random() < p_noisy else (w, w)) if w == dataset.MARS_IDX else (w, w) for w in s]\n",
        "        \n",
        "        return {'input': torch.Tensor([w[0] for w in s]).long(),\n",
        "                'target': torch.Tensor([w[1] for w in s]).long()}\n",
        "\n",
        "    #return length\n",
        "    def __len__(self):\n",
        "        return len(self.sentences)\n",
        "\n",
        "    #get words id\n",
        "    def get_sentence_idx(self, index):\n",
        "        dataset = self\n",
        "        s = dataset.sentences[index]\n",
        "        s = [dataset.vocab[w] if w in dataset.vocab else dataset.OUT_OF_VOCAB_IDX for w in s] \n",
        "        return s\n",
        "\n",
        "# =============================================================================\n",
        "# Methods / Class\n",
        "# =============================================================================\n",
        "def get_batch(loader, loader_iter):\n",
        "    try:\n",
        "        batch = next(loader_iter)\n",
        "    except StopIteration:\n",
        "        loader_iter = iter(loader)\n",
        "        batch = next(loader_iter)\n",
        "    return batch, loader_iter\n",
        "\n"
      ]
    },
    {
      "cell_type": "code",
      "source": [
        "# =============================================================================\n",
        "# #Init\n",
        "# =============================================================================\n",
        "print('initializing..')\n",
        "batch_size = 1024\n",
        "seq_len = 20\n",
        "embed_size = 128\n",
        "inner_ff_size = embed_size * 4\n",
        "n_heads = 8\n",
        "n_code = 8\n",
        "n_vocab = 40000\n",
        "dropout = 0.1\n",
        "# n_workers = 12\n",
        "\n",
        "#optimizer\n",
        "optim_kwargs = {'lr':1e-4, 'weight_decay':1e-4, 'betas':(.9,.999)}"
      ],
      "metadata": {
        "colab": {
          "base_uri": "https://localhost:8080/"
        },
        "id": "REytZ7yCUzNz",
        "outputId": "3ad12a64-4ee2-47b1-8a4a-f30e74951c10"
      },
      "execution_count": 8,
      "outputs": [
        {
          "output_type": "stream",
          "name": "stdout",
          "text": [
            "initializing..\n"
          ]
        }
      ]
    },
    {
      "cell_type": "code",
      "source": [
        "# =============================================================================\n",
        "# Input\n",
        "# =============================================================================\n",
        "#1) load text\n",
        "print('loading text...')\n",
        "pth = 'training.txt'\n",
        "sentences = open(pth).read().lower().split('\\n')\n",
        "\n",
        "#2) tokenize sentences (can be done during training, you can also use spacy udpipe)\n",
        "print('tokenizing sentences...')\n",
        "special_chars = ',?;.:/*!+-()[]{}\"\\'&'\n",
        "sentences = [re.sub(f'[{re.escape(special_chars)}]', ' \\g<0> ', s).split(' ') for s in sentences]\n",
        "sentences = [[w for w in s if len(w)] for s in sentences]\n",
        "\n",
        "#3) create vocab if not already created\n",
        "print('creating/loading vocab...')\n",
        "pth = 'vocab.txt'\n",
        "if not exists(pth):\n",
        "    words = [w for s in sentences for w in s]\n",
        "    vocab = Counter(words).most_common(n_vocab) #keep the N most frequent words\n",
        "    vocab = [w[0] for w in vocab]\n",
        "    open(pth, 'w+').write('\\n'.join(vocab))\n",
        "else:\n",
        "    vocab = open(pth).read().split('\\n')\n",
        "\n",
        "#4) create dataset\n",
        "print('creating dataset...')\n",
        "dataset = SentencesDataset(sentences, vocab, seq_len)\n",
        "# kwargs = {'num_workers':n_workers, 'shuffle':True,  'drop_last':True, 'pin_memory':True, 'batch_size':batch_size}\n",
        "kwargs = {'shuffle':True,  'drop_last':True, 'pin_memory':True, 'batch_size':batch_size}\n",
        "data_loader = torch.utils.data.DataLoader(dataset, **kwargs)\n"
      ],
      "metadata": {
        "colab": {
          "base_uri": "https://localhost:8080/"
        },
        "id": "HU-RAqXtUzQn",
        "outputId": "e3600d3a-930a-4d75-8186-ddd941d0c301"
      },
      "execution_count": 9,
      "outputs": [
        {
          "output_type": "stream",
          "name": "stdout",
          "text": [
            "loading text...\n",
            "tokenizing sentences...\n",
            "creating/loading vocab...\n",
            "creating dataset...\n"
          ]
        }
      ]
    },
    {
      "cell_type": "code",
      "execution_count": 10,
      "metadata": {
        "colab": {
          "base_uri": "https://localhost:8080/"
        },
        "id": "XBurNy4hsn_Y",
        "outputId": "f3982531-ce8d-41a9-e12b-08b9077dfa0a"
      },
      "outputs": [
        {
          "output_type": "stream",
          "name": "stdout",
          "text": [
            "initializing model...\n",
            "initializing optimizer and loss...\n",
            "training...\n",
            "it: 0  | loss 10.36  | Δw: 4.443\n",
            "it: 10  | loss 8.47  | Δw: 2.833\n",
            "it: 20  | loss 7.73  | Δw: 2.474\n",
            "it: 30  | loss 7.14  | Δw: 2.369\n",
            "it: 40  | loss 6.77  | Δw: 2.341\n",
            "it: 50  | loss 6.37  | Δw: 2.193\n",
            "it: 60  | loss 6.08  | Δw: 2.108\n",
            "it: 70  | loss 5.83  | Δw: 2.026\n",
            "it: 80  | loss 5.54  | Δw: 1.926\n",
            "it: 90  | loss 5.38  | Δw: 1.918\n",
            "it: 100  | loss 5.1  | Δw: 1.83\n",
            "it: 110  | loss 4.88  | Δw: 1.779\n",
            "it: 120  | loss 4.75  | Δw: 1.784\n",
            "it: 130  | loss 4.57  | Δw: 1.744\n",
            "it: 140  | loss 4.37  | Δw: 1.694\n",
            "it: 150  | loss 4.17  | Δw: 1.655\n",
            "it: 160  | loss 4.03  | Δw: 1.64\n",
            "it: 170  | loss 3.84  | Δw: 1.597\n",
            "it: 180  | loss 3.73  | Δw: 1.592\n",
            "it: 190  | loss 3.56  | Δw: 1.559\n",
            "it: 200  | loss 3.45  | Δw: 1.553\n",
            "it: 210  | loss 3.3  | Δw: 1.515\n",
            "it: 220  | loss 3.15  | Δw: 1.496\n",
            "it: 230  | loss 3.05  | Δw: 1.484\n",
            "it: 240  | loss 2.93  | Δw: 1.472\n",
            "it: 250  | loss 2.83  | Δw: 1.45\n",
            "it: 260  | loss 2.75  | Δw: 1.454\n",
            "it: 270  | loss 2.63  | Δw: 1.42\n",
            "it: 280  | loss 2.52  | Δw: 1.399\n",
            "it: 290  | loss 2.49  | Δw: 1.432\n",
            "it: 300  | loss 2.36  | Δw: 1.393\n",
            "it: 310  | loss 2.28  | Δw: 1.376\n",
            "it: 320  | loss 2.23  | Δw: 1.386\n",
            "it: 330  | loss 2.17  | Δw: 1.371\n",
            "it: 340  | loss 2.07  | Δw: 1.346\n",
            "it: 350  | loss 2.01  | Δw: 1.336\n",
            "it: 360  | loss 1.95  | Δw: 1.319\n",
            "it: 370  | loss 1.9  | Δw: 1.317\n",
            "it: 380  | loss 1.85  | Δw: 1.312\n",
            "it: 390  | loss 1.79  | Δw: 1.3\n",
            "it: 400  | loss 1.71  | Δw: 1.265\n",
            "it: 410  | loss 1.71  | Δw: 1.284\n",
            "it: 420  | loss 1.68  | Δw: 1.288\n",
            "it: 430  | loss 1.64  | Δw: 1.282\n",
            "it: 440  | loss 1.56  | Δw: 1.245\n",
            "it: 450  | loss 1.51  | Δw: 1.231\n",
            "it: 460  | loss 1.48  | Δw: 1.216\n",
            "it: 470  | loss 1.43  | Δw: 1.2\n",
            "it: 480  | loss 1.44  | Δw: 1.233\n",
            "it: 490  | loss 1.36  | Δw: 1.181\n",
            "it: 500  | loss 1.35  | Δw: 1.19\n",
            "it: 510  | loss 1.32  | Δw: 1.166\n",
            "it: 520  | loss 1.27  | Δw: 1.153\n",
            "it: 530  | loss 1.23  | Δw: 1.129\n",
            "it: 540  | loss 1.24  | Δw: 1.138\n",
            "it: 550  | loss 1.21  | Δw: 1.143\n",
            "it: 560  | loss 1.17  | Δw: 1.117\n",
            "it: 570  | loss 1.13  | Δw: 1.091\n",
            "it: 580  | loss 1.09  | Δw: 1.066\n",
            "it: 590  | loss 1.08  | Δw: 1.073\n",
            "it: 600  | loss 1.05  | Δw: 1.056\n",
            "it: 610  | loss 1.01  | Δw: 1.037\n",
            "it: 620  | loss 1.02  | Δw: 1.043\n",
            "it: 630  | loss 1.0  | Δw: 1.046\n",
            "it: 640  | loss 0.99  | Δw: 1.035\n",
            "it: 650  | loss 0.97  | Δw: 1.028\n",
            "it: 660  | loss 0.94  | Δw: 1.003\n",
            "it: 670  | loss 0.9  | Δw: 0.981\n",
            "it: 680  | loss 0.89  | Δw: 0.967\n",
            "it: 690  | loss 0.88  | Δw: 0.969\n",
            "it: 700  | loss 0.86  | Δw: 0.957\n",
            "it: 710  | loss 0.84  | Δw: 0.938\n",
            "it: 720  | loss 0.83  | Δw: 0.938\n",
            "it: 730  | loss 0.76  | Δw: 0.876\n",
            "it: 740  | loss 0.77  | Δw: 0.886\n",
            "it: 750  | loss 0.77  | Δw: 0.893\n",
            "it: 760  | loss 0.73  | Δw: 0.858\n",
            "it: 770  | loss 0.74  | Δw: 0.872\n",
            "it: 780  | loss 0.72  | Δw: 0.866\n",
            "it: 790  | loss 0.72  | Δw: 0.853\n",
            "it: 800  | loss 0.7  | Δw: 0.84\n",
            "it: 810  | loss 0.65  | Δw: 0.816\n",
            "it: 820  | loss 0.68  | Δw: 0.836\n",
            "it: 830  | loss 0.67  | Δw: 0.82\n",
            "it: 840  | loss 0.64  | Δw: 0.796\n",
            "it: 850  | loss 0.63  | Δw: 0.786\n",
            "it: 860  | loss 0.64  | Δw: 0.798\n",
            "it: 870  | loss 0.61  | Δw: 0.768\n",
            "it: 880  | loss 0.58  | Δw: 0.753\n",
            "it: 890  | loss 0.6  | Δw: 0.762\n",
            "it: 900  | loss 0.58  | Δw: 0.741\n",
            "it: 910  | loss 0.58  | Δw: 0.748\n",
            "it: 920  | loss 0.55  | Δw: 0.727\n",
            "it: 930  | loss 0.56  | Δw: 0.723\n",
            "it: 940  | loss 0.57  | Δw: 0.729\n",
            "it: 950  | loss 0.55  | Δw: 0.712\n",
            "it: 960  | loss 0.56  | Δw: 0.707\n",
            "it: 970  | loss 0.53  | Δw: 0.69\n",
            "it: 980  | loss 0.51  | Δw: 0.669\n",
            "it: 990  | loss 0.52  | Δw: 0.691\n",
            "saving embeddings...\n",
            "end\n"
          ]
        }
      ],
      "source": [
        "# =============================================================================\n",
        "# Model\n",
        "# =============================================================================\n",
        "#init model\n",
        "print('initializing model...')\n",
        "model = Transformer(n_code, n_heads, embed_size, inner_ff_size, len(dataset.vocab), seq_len, dropout)\n",
        "model = model.cuda()\n",
        "\n",
        "# =============================================================================\n",
        "# Optimizer\n",
        "# =============================================================================\n",
        "print('initializing optimizer and loss...')\n",
        "optimizer = optim.Adam(model.parameters(), **optim_kwargs)\n",
        "loss_model = nn.CrossEntropyLoss(ignore_index=dataset.IGNORE_IDX)\n",
        "\n",
        "# =============================================================================\n",
        "# Train\n",
        "# =============================================================================\n",
        "print('training...')\n",
        "print_each = 10\n",
        "model.train()\n",
        "batch_iter = iter(data_loader)\n",
        "n_iteration = 1000\n",
        "for it in range(n_iteration):\n",
        "    \n",
        "    #get batch\n",
        "    batch, batch_iter = get_batch(data_loader, batch_iter)\n",
        "    \n",
        "    #infer\n",
        "    masked_input = batch['input']\n",
        "    masked_target = batch['target']\n",
        "    \n",
        "    masked_input = masked_input.cuda(non_blocking=True)\n",
        "    masked_target = masked_target.cuda(non_blocking=True)\n",
        "    output = model(masked_input)\n",
        "    \n",
        "    #compute the cross entropy loss \n",
        "    output_v = output.view(-1,output.shape[-1])\n",
        "    target_v = masked_target.view(-1,1).squeeze()\n",
        "    loss = loss_model(output_v, target_v)\n",
        "    \n",
        "    #compute gradients\n",
        "    loss.backward()\n",
        "    \n",
        "    #apply gradients\n",
        "    optimizer.step()\n",
        "    \n",
        "    #print step\n",
        "    if it % print_each == 0:\n",
        "        print('it:', it, \n",
        "              ' | loss', np.round(loss.item(),2),\n",
        "              ' | Δw:', round(model.embeddings.weight.grad.abs().sum().item(),3))\n",
        "    \n",
        "    #reset gradients\n",
        "    optimizer.zero_grad()\n",
        "    \n",
        "\n",
        "# =============================================================================\n",
        "# Results analysis\n",
        "# =============================================================================\n",
        "print('saving embeddings...')\n",
        "N = 3000\n",
        "np.savetxt('values.tsv', np.round(model.embeddings.weight.detach().cpu().numpy()[0:N], 2), delimiter='\\t', fmt='%1.2f')\n",
        "s = [dataset.rvocab[i] for i in range(N)]\n",
        "open('names.tsv', 'w+').write('\\n'.join(s) )\n",
        "\n",
        "\n",
        "print('end')"
      ]
    },
    {
      "cell_type": "code",
      "source": [
        "# generate 10 input sentences taken all of same length to avoid padding\n",
        "sentences_test = ['samsung is the fourth planet from the sun and has a distinct',\n",
        "             'The bright rust color samsung is known for is due to iron-rich',\n",
        "             'samsung also has the largest volcanoes in the solar system, Olympus Mons',\n",
        "             'When samsung is closest to the sun, its southern hemisphere is Cold',\n",
        "             'A graphic showing brief timeline of important samsung missions and the top',\n",
        "             'The first person to observe samsung with a telescope was Galileo Galilei',\n",
        "             'Robotic spacecraft began observing samsung in the 1960s, with the United States',\n",
        "             'The next two craft to successfully reach the Red Planet were samsung',\n",
        "             'We now know that samsung is very cold and dry, with no',\n",
        "             'samsung once had liquid water on the surface and could have supported']"
      ],
      "metadata": {
        "id": "1dFl7JME9ZDj"
      },
      "execution_count": 13,
      "outputs": []
    },
    {
      "cell_type": "code",
      "source": [
        "# convert the sentences to input tensors\n",
        "inputs = torch.tensor([[dataset.vocab.get(word.lower(), 0)\n",
        "                        for word in sentence.split()] for sentence in sentences_test])\n",
        "inputs = inputs.to('cuda')\n",
        "\n",
        "# process the inputs through the model\n",
        "outputs = model(inputs)\n"
      ],
      "metadata": {
        "id": "2kp7DN1evFHX"
      },
      "execution_count": 14,
      "outputs": []
    },
    {
      "cell_type": "code",
      "source": [
        "outputs.shape"
      ],
      "metadata": {
        "colab": {
          "base_uri": "https://localhost:8080/"
        },
        "id": "pOIX4lMfLzY-",
        "outputId": "e47dc044-b366-409e-d79c-6191cc8a11ef"
      },
      "execution_count": 15,
      "outputs": [
        {
          "output_type": "execute_result",
          "data": {
            "text/plain": [
              "torch.Size([10, 12, 23949])"
            ]
          },
          "metadata": {},
          "execution_count": 15
        }
      ]
    },
    {
      "cell_type": "markdown",
      "source": [
        "# Prediction"
      ],
      "metadata": {
        "id": "OjmgboUDddMz"
      }
    },
    {
      "cell_type": "code",
      "source": [
        "# generate the output sentences\n",
        "output_indices = torch.argmax(outputs, dim=2).tolist()\n",
        "output_sentences = []\n",
        "for indices in output_indices:\n",
        "    words = [dataset.rvocab[index] for index in indices if index != dataset.vocab['<ignore>'] and not isinstance(index, list)]\n",
        "    sentence = ' '.join(words)\n",
        "    output_sentences.append(sentence)\n",
        "\n",
        "# print the output sentences\n",
        "for sentence in output_sentences:\n",
        "    print(sentence)"
      ],
      "metadata": {
        "colab": {
          "base_uri": "https://localhost:8080/"
        },
        "id": "Y-ZgklzaLzb0",
        "outputId": "ad0cfb1d-d89f-4c06-fbb6-56d6aa617394"
      },
      "execution_count": 16,
      "outputs": [
        {
          "output_type": "stream",
          "name": "stdout",
          "text": [
            "mars is the fourth planet from the sun and has a distinct\n",
            "the bright was color mars is known for is due to ,\n",
            "mars also has the largest , in the , , for engines\n",
            "when mars is closest to the , its southern , is cold\n",
            "a , showing brief , of important mars missions and the top\n",
            "the first person to observe mars with a , was , ,\n",
            ", , began observing mars in the , with the united states\n",
            "the next two , to successfully reach the red planet were mars\n",
            "we now know that mars is very cold and , with no\n",
            "mars once had liquid water on the , and could have supported\n"
          ]
        }
      ]
    }
  ],
  "metadata": {
    "kernelspec": {
      "display_name": "base",
      "language": "python",
      "name": "python3"
    },
    "language_info": {
      "codemirror_mode": {
        "name": "ipython",
        "version": 3
      },
      "file_extension": ".py",
      "mimetype": "text/x-python",
      "name": "python",
      "nbconvert_exporter": "python",
      "pygments_lexer": "ipython3",
      "version": "3.9.7"
    },
    "orig_nbformat": 4,
    "vscode": {
      "interpreter": {
        "hash": "b8fbfcbe0e544000e4ba3d2d9974592a7ba1a2af52205db5302ae41a0c45d995"
      }
    },
    "colab": {
      "provenance": [],
      "include_colab_link": true
    },
    "accelerator": "GPU",
    "gpuClass": "standard"
  },
  "nbformat": 4,
  "nbformat_minor": 0
}